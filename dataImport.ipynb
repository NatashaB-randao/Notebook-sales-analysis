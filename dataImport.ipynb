{
 "cells": [
  {
   "cell_type": "markdown",
   "metadata": {},
   "source": [
    "### Traduzindo as Colunas para Português"
   ]
  },
  {
   "cell_type": "code",
   "execution_count": 16,
   "metadata": {},
   "outputs": [
    {
     "name": "stdout",
     "output_type": "stream",
     "text": [
      "Colunas atualizadas: Index(['marca', 'modelo', 'marca_processador', 'nome_processador',\n",
      "       'geração_processador', 'ram_gb', 'tipo_ram', 'ssd', 'hdd',\n",
      "       'sistema_operacional', 'arquitetura_sistema', 'placa_grafica_gb',\n",
      "       'peso', 'tamanho_tela', 'garantia', 'tela_touch', 'microsoft_office',\n",
      "       'preco_atual', 'preco_antigo', 'desconto', 'classificacao',\n",
      "       'avaliacoes', 'comentarios'],\n",
      "      dtype='object')\n",
      "     preco_atual_real  preco_antigo_real\n",
      "0             1474.41           1934.610\n",
      "1             1155.81           1258.175\n",
      "2             1179.41           1651.410\n",
      "3             1267.91           1651.410\n",
      "4             1474.41           1975.910\n",
      "..                ...                ...\n",
      "891           8554.41          11504.410\n",
      "892           8849.41              0.000\n",
      "893           8436.41              0.000\n",
      "894           2300.41           2831.410\n",
      "895           3391.91           4625.600\n",
      "\n",
      "[896 rows x 2 columns]\n"
     ]
    }
   ],
   "source": [
    "import pandas as pd\n",
    "\n",
    "# Carregue o arquivo CSV em um DataFrame do pandas\n",
    "df = pd.read_csv('Cleaned_Laptop_data.csv')\n",
    "\n",
    "# Crie um dicionário com os novos nomes em português\n",
    "nomes_traduzidos = {\n",
    "    'brand': 'marca',\n",
    "    'model': 'modelo',\n",
    "    'processor_brand': 'marca_processador',\n",
    "    'processor_name': 'nome_processador',\n",
    "    'processor_gnrtn': 'geração_processador',\n",
    "    'ram_gb': 'ram_gb',\n",
    "    'ram_type': 'tipo_ram',\n",
    "    'ssd': 'ssd',\n",
    "    'hdd': 'hdd',\n",
    "    'os': 'sistema_operacional',\n",
    "    'os_bit': 'arquitetura_sistema',\n",
    "    'graphic_card_gb': 'placa_grafica_gb',\n",
    "    'weight': 'peso',\n",
    "    'display_size': 'tamanho_tela',\n",
    "    'warranty': 'garantia',\n",
    "    'Touchscreen': 'tela_touch',\n",
    "    'msoffice': 'microsoft_office',\n",
    "    'latest_price': 'preco_atual',\n",
    "    'old_price': 'preco_antigo',\n",
    "    'discount': 'desconto',\n",
    "    'star_rating': 'classificacao',\n",
    "    'ratings': 'avaliacoes',\n",
    "    'reviews': 'comentarios'\n",
    "}\n",
    "\n"
   ]
  },
  {
   "cell_type": "code",
   "execution_count": 17,
   "metadata": {},
   "outputs": [
    {
     "name": "stdout",
     "output_type": "stream",
     "text": [
      "Index(['marca', 'modelo', 'marca_processador', 'nome_processador',\n",
      "       'geração_processador', 'ram_gb', 'tipo_ram', 'ssd', 'hdd',\n",
      "       'sistema_operacional', 'arquitetura_sistema', 'placa_grafica_gb',\n",
      "       'peso', 'tamanho_tela', 'garantia', 'tela_touch', 'microsoft_office',\n",
      "       'preco_atual', 'preco_antigo', 'desconto', 'classificacao',\n",
      "       'avaliacoes', 'comentarios', 'preco_atual_real', 'preco_antigo_real'],\n",
      "      dtype='object')\n"
     ]
    }
   ],
   "source": [
    "print(df.columns)"
   ]
  },
  {
   "cell_type": "markdown",
   "metadata": {},
   "source": [
    "### Converter os preços de Rupias indianas para Reais"
   ]
  },
  {
   "cell_type": "code",
   "execution_count": 18,
   "metadata": {},
   "outputs": [
    {
     "name": "stdout",
     "output_type": "stream",
     "text": [
      "Colunas atualizadas: Index(['marca', 'modelo', 'marca_processador', 'nome_processador',\n",
      "       'geração_processador', 'ram_gb', 'tipo_ram', 'ssd', 'hdd',\n",
      "       'sistema_operacional', 'arquitetura_sistema', 'placa_grafica_gb',\n",
      "       'peso', 'tamanho_tela', 'garantia', 'tela_touch', 'microsoft_office',\n",
      "       'preco_atual', 'preco_antigo', 'desconto', 'classificacao',\n",
      "       'avaliacoes', 'comentarios', 'preco_atual_real', 'preco_antigo_real'],\n",
      "      dtype='object')\n",
      "     preco_atual_real  preco_antigo_real\n",
      "0             1474.41           1934.610\n",
      "1             1155.81           1258.175\n",
      "2             1179.41           1651.410\n",
      "3             1267.91           1651.410\n",
      "4             1474.41           1975.910\n",
      "..                ...                ...\n",
      "891           8554.41          11504.410\n",
      "892           8849.41              0.000\n",
      "893           8436.41              0.000\n",
      "894           2300.41           2831.410\n",
      "895           3391.91           4625.600\n",
      "\n",
      "[896 rows x 2 columns]\n"
     ]
    }
   ],
   "source": [
    "# Renomeie as colunas usando o método rename do pandas\n",
    "df.rename(columns=nomes_traduzidos, inplace=True)\n",
    "\n",
    "# Exiba as colunas atualizadas\n",
    "print(\"Colunas atualizadas:\", df.columns)\n",
    "\n",
    "# Taxa de câmbio de Rupia Indiana para Real (exemplo, substitua pelo valor atual)\n",
    "taxa_cambio = 0.059\n",
    "\n",
    "# Converta as colunas de preço para Real\n",
    "df['preco_atual_real'] = df['preco_atual'] * taxa_cambio\n",
    "df['preco_antigo_real'] = df['preco_antigo'] * taxa_cambio\n",
    "\n",
    "# Exiba as colunas atualizadas\n",
    "print(df[['preco_atual_real', 'preco_antigo_real']])\n",
    "\n",
    "# Salve o DataFrame de volta para um novo arquivo CSV se desejar\n",
    "df.to_csv('seuarquivo_atualizado.csv', index=False)\n",
    "\n",
    "\n"
   ]
  },
  {
   "cell_type": "code",
   "execution_count": null,
   "metadata": {},
   "outputs": [],
   "source": []
  },
  {
   "cell_type": "code",
   "execution_count": 4,
   "metadata": {},
   "outputs": [
    {
     "name": "stdout",
     "output_type": "stream",
     "text": [
      "Dados do arquivo Cleaned_Laptop_data.csv inseridos com sucesso na tabela Notebooks_Vendidos\n"
     ]
    }
   ],
   "source": [
    "# SQLAlchemy: Biblioteca em Python para trabalhar com bancos de dados relacionais, oferecendo uma camada de abstração sobre diferentes DBMS (Data Base Management System)\n",
    "\n",
    "# create_engine: Função do SQLAlchemy para criar uma instância de \"engine\", um objeto que gerencia a conexão com um banco de dados e executa comandos SQL.\n",
    "\n",
    "import mysql.connector\n",
    "from sqlalchemy import create_engine\n",
    "import pandas as pd\n",
    "\n",
    "# Configurações do banco de dados\n",
    "db_config = {\n",
    "    'host': 'localhost',\n",
    "    'user': 'root',\n",
    "    'password': 'natasha57',\n",
    "    'database': 'projetos'\n",
    "}\n",
    "\n",
    "# Conectar ao MySQL usando SQLAlchemy\n",
    "engine = create_engine(f\"mysql+mysqlconnector://{db_config['user']}:{db_config['password']}@{db_config['host']}/{db_config['database']}\")\n",
    "\n",
    "# Lista de nomes de arquivos CSV e nomes correspondentes de tabelas\n",
    "mapeamento_arquivos_tabelas = {\n",
    "    'Cleaned_Laptop_data.csv': 'Notebooks_Vendidos'\n",
    "}\n",
    "\n",
    "# Loop sobre cada arquivo e sua tabela correspondente\n",
    "for nome_arquivo_csv, nome_tabela in mapeamento_arquivos_tabelas.items():\n",
    "    try:\n",
    "        # Ler dados do arquivo CSV usando pandas\n",
    "        dados_csv = pd.read_csv(nome_arquivo_csv)\n",
    "\n",
    "        # Remover espaços extras no nome das colunas\n",
    "        dados_csv.columns = dados_csv.columns.str.strip()\n",
    "\n",
    "        # Criar a tabela no MySQL (se ela não existir)\n",
    "        dados_csv.head(0).to_sql(nome_tabela, con=engine, if_exists='replace', index=False)\n",
    "\n",
    "        # Inserir dados no MySQL\n",
    "        dados_csv.to_sql(nome_tabela, con=engine, if_exists='append', index=False)\n",
    "\n",
    "        # Exibir os dados\n",
    "        print(f'Dados do arquivo {nome_arquivo_csv} inseridos com sucesso na tabela {nome_tabela}')\n",
    "\n",
    "    # Tratamento de exceções específicas.\n",
    "    # Se o arquivo CSV não for encontrado, a exceção FileNotFoundError será capturada.\n",
    "    # A variável 'e' armazena a exceção capturada, permitindo o acesso às informações sobre a exceção.\n",
    "    except FileNotFoundError as e:\n",
    "        print(f\"Erro: Arquivo {nome_arquivo_csv} não encontrado. Verifique o nome do arquivo. Detalhes do erro: {e}\")\n",
    "\n",
    "    # Tratamento de exceções genéricas.\n",
    "    # Se ocorrer qualquer outra exceção, ela será capturada pelo bloco except Exception.\n",
    "    except Exception as e:\n",
    "        print(f\"Erro ao inserir dados do arquivo {nome_arquivo_csv} no MySQL: {e}\")\n",
    "\n",
    "# Bloco finally.\n",
    "# Independentemente de ocorrer uma exceção ou não, o bloco finally é executado.\n",
    "# No caso, é usado para garantir que a conexão com o MySQL seja fechada.\n",
    "    finally:\n",
    "        engine.dispose()  # Fechar a conexão"
   ]
  }
 ],
 "metadata": {
  "kernelspec": {
   "display_name": "Python 3",
   "language": "python",
   "name": "python3"
  },
  "language_info": {
   "codemirror_mode": {
    "name": "ipython",
    "version": 3
   },
   "file_extension": ".py",
   "mimetype": "text/x-python",
   "name": "python",
   "nbconvert_exporter": "python",
   "pygments_lexer": "ipython3",
   "version": "3.12.0"
  }
 },
 "nbformat": 4,
 "nbformat_minor": 2
}
